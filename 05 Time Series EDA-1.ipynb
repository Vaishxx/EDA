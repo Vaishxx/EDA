{
 "cells": [
  {
   "cell_type": "code",
   "execution_count": 1,
   "id": "688f8f6a",
   "metadata": {},
   "outputs": [
    {
     "name": "stdout",
     "output_type": "stream",
     "text": [
      "Requirement already satisfied: pandas-datareader in f:\\okok\\lib\\site-packages (0.10.0)\n",
      "Requirement already satisfied: lxml in f:\\okok\\lib\\site-packages (from pandas-datareader) (4.9.2)\n",
      "Requirement already satisfied: pandas>=0.23 in f:\\okok\\lib\\site-packages (from pandas-datareader) (1.5.3)\n",
      "Requirement already satisfied: requests>=2.19.0 in f:\\okok\\lib\\site-packages (from pandas-datareader) (2.32.3)\n",
      "Requirement already satisfied: python-dateutil>=2.8.1 in f:\\okok\\lib\\site-packages (from pandas>=0.23->pandas-datareader) (2.8.2)\n",
      "Requirement already satisfied: pytz>=2020.1 in f:\\okok\\lib\\site-packages (from pandas>=0.23->pandas-datareader) (2022.7)\n",
      "Requirement already satisfied: numpy>=1.21.0 in f:\\okok\\lib\\site-packages (from pandas>=0.23->pandas-datareader) (1.24.3)\n",
      "Requirement already satisfied: charset-normalizer<4,>=2 in f:\\okok\\lib\\site-packages (from requests>=2.19.0->pandas-datareader) (2.0.4)\n",
      "Requirement already satisfied: idna<4,>=2.5 in f:\\okok\\lib\\site-packages (from requests>=2.19.0->pandas-datareader) (3.4)\n",
      "Requirement already satisfied: urllib3<3,>=1.21.1 in f:\\okok\\lib\\site-packages (from requests>=2.19.0->pandas-datareader) (1.26.16)\n",
      "Requirement already satisfied: certifi>=2017.4.17 in f:\\okok\\lib\\site-packages (from requests>=2.19.0->pandas-datareader) (2023.5.7)\n",
      "Requirement already satisfied: six>=1.5 in f:\\okok\\lib\\site-packages (from python-dateutil>=2.8.1->pandas>=0.23->pandas-datareader) (1.16.0)\n"
     ]
    }
   ],
   "source": [
    "#install pandas data reader\n",
    "!pip install pandas-datareader"
   ]
  },
  {
   "cell_type": "code",
   "execution_count": 2,
   "id": "d503cf35",
   "metadata": {},
   "outputs": [],
   "source": [
    "import pandas_datareader as pdr\n",
    "import pandas as pd\n",
    "from datetime import datetime"
   ]
  },
  {
   "cell_type": "code",
   "execution_count": 3,
   "id": "d4a36150",
   "metadata": {
    "scrolled": true
   },
   "outputs": [],
   "source": [
    "# start_date = datetime.datetime(2017, 2, 17)\n",
    "# end_date = datetime.datetime(2022, 2, 24)\n",
    "# df = pdr.get_data_yahoo('TSLA', start=start_date, end=end_date)\n"
   ]
  },
  {
   "cell_type": "code",
   "execution_count": 4,
   "id": "082f42a1",
   "metadata": {},
   "outputs": [
    {
     "name": "stdout",
     "output_type": "stream",
     "text": [
      "Requirement already satisfied: yfinance in f:\\okok\\lib\\site-packages (0.2.43)\n",
      "Requirement already satisfied: pandas>=1.3.0 in f:\\okok\\lib\\site-packages (from yfinance) (1.5.3)\n",
      "Requirement already satisfied: numpy>=1.16.5 in f:\\okok\\lib\\site-packages (from yfinance) (1.24.3)\n",
      "Requirement already satisfied: requests>=2.31 in f:\\okok\\lib\\site-packages (from yfinance) (2.32.3)\n",
      "Requirement already satisfied: multitasking>=0.0.7 in f:\\okok\\lib\\site-packages (from yfinance) (0.0.11)\n",
      "Requirement already satisfied: lxml>=4.9.1 in f:\\okok\\lib\\site-packages (from yfinance) (4.9.2)\n",
      "Requirement already satisfied: platformdirs>=2.0.0 in f:\\okok\\lib\\site-packages (from yfinance) (2.5.2)\n",
      "Requirement already satisfied: pytz>=2022.5 in f:\\okok\\lib\\site-packages (from yfinance) (2022.7)\n",
      "Requirement already satisfied: frozendict>=2.3.4 in f:\\okok\\lib\\site-packages (from yfinance) (2.4.4)\n",
      "Requirement already satisfied: peewee>=3.16.2 in f:\\okok\\lib\\site-packages (from yfinance) (3.17.6)\n",
      "Requirement already satisfied: beautifulsoup4>=4.11.1 in f:\\okok\\lib\\site-packages (from yfinance) (4.12.2)\n",
      "Requirement already satisfied: html5lib>=1.1 in f:\\okok\\lib\\site-packages (from yfinance) (1.1)\n",
      "Requirement already satisfied: soupsieve>1.2 in f:\\okok\\lib\\site-packages (from beautifulsoup4>=4.11.1->yfinance) (2.4)\n",
      "Requirement already satisfied: six>=1.9 in f:\\okok\\lib\\site-packages (from html5lib>=1.1->yfinance) (1.16.0)\n",
      "Requirement already satisfied: webencodings in f:\\okok\\lib\\site-packages (from html5lib>=1.1->yfinance) (0.5.1)\n",
      "Requirement already satisfied: python-dateutil>=2.8.1 in f:\\okok\\lib\\site-packages (from pandas>=1.3.0->yfinance) (2.8.2)\n",
      "Requirement already satisfied: charset-normalizer<4,>=2 in f:\\okok\\lib\\site-packages (from requests>=2.31->yfinance) (2.0.4)\n",
      "Requirement already satisfied: idna<4,>=2.5 in f:\\okok\\lib\\site-packages (from requests>=2.31->yfinance) (3.4)\n",
      "Requirement already satisfied: urllib3<3,>=1.21.1 in f:\\okok\\lib\\site-packages (from requests>=2.31->yfinance) (1.26.16)\n",
      "Requirement already satisfied: certifi>=2017.4.17 in f:\\okok\\lib\\site-packages (from requests>=2.31->yfinance) (2023.5.7)\n"
     ]
    }
   ],
   "source": [
    "!pip install yfinance"
   ]
  },
  {
   "cell_type": "code",
   "execution_count": 5,
   "id": "6a36cbe3",
   "metadata": {},
   "outputs": [
    {
     "name": "stderr",
     "output_type": "stream",
     "text": [
      "[*********************100%***********************]  1 of 1 completed\n"
     ]
    },
    {
     "data": {
      "text/html": [
       "<div>\n",
       "<style scoped>\n",
       "    .dataframe tbody tr th:only-of-type {\n",
       "        vertical-align: middle;\n",
       "    }\n",
       "\n",
       "    .dataframe tbody tr th {\n",
       "        vertical-align: top;\n",
       "    }\n",
       "\n",
       "    .dataframe thead th {\n",
       "        text-align: right;\n",
       "    }\n",
       "</style>\n",
       "<table border=\"1\" class=\"dataframe\">\n",
       "  <thead>\n",
       "    <tr style=\"text-align: right;\">\n",
       "      <th></th>\n",
       "      <th>Open</th>\n",
       "      <th>High</th>\n",
       "      <th>Low</th>\n",
       "      <th>Close</th>\n",
       "      <th>Adj Close</th>\n",
       "      <th>Volume</th>\n",
       "    </tr>\n",
       "    <tr>\n",
       "      <th>Date</th>\n",
       "      <th></th>\n",
       "      <th></th>\n",
       "      <th></th>\n",
       "      <th></th>\n",
       "      <th></th>\n",
       "      <th></th>\n",
       "    </tr>\n",
       "  </thead>\n",
       "  <tbody>\n",
       "    <tr>\n",
       "      <th>2017-02-17</th>\n",
       "      <td>17.719999</td>\n",
       "      <td>18.192667</td>\n",
       "      <td>17.610001</td>\n",
       "      <td>18.148666</td>\n",
       "      <td>18.148666</td>\n",
       "      <td>93856500</td>\n",
       "    </tr>\n",
       "    <tr>\n",
       "      <th>2017-02-21</th>\n",
       "      <td>18.363333</td>\n",
       "      <td>18.760000</td>\n",
       "      <td>18.267332</td>\n",
       "      <td>18.492666</td>\n",
       "      <td>18.492666</td>\n",
       "      <td>85150500</td>\n",
       "    </tr>\n",
       "    <tr>\n",
       "      <th>2017-02-22</th>\n",
       "      <td>18.687332</td>\n",
       "      <td>18.896667</td>\n",
       "      <td>18.173332</td>\n",
       "      <td>18.233999</td>\n",
       "      <td>18.233999</td>\n",
       "      <td>131325000</td>\n",
       "    </tr>\n",
       "    <tr>\n",
       "      <th>2017-02-23</th>\n",
       "      <td>17.600000</td>\n",
       "      <td>17.643999</td>\n",
       "      <td>17.037333</td>\n",
       "      <td>17.066000</td>\n",
       "      <td>17.066000</td>\n",
       "      <td>223728000</td>\n",
       "    </tr>\n",
       "    <tr>\n",
       "      <th>2017-02-24</th>\n",
       "      <td>16.844000</td>\n",
       "      <td>17.216667</td>\n",
       "      <td>16.680000</td>\n",
       "      <td>17.133333</td>\n",
       "      <td>17.133333</td>\n",
       "      <td>122574000</td>\n",
       "    </tr>\n",
       "    <tr>\n",
       "      <th>...</th>\n",
       "      <td>...</td>\n",
       "      <td>...</td>\n",
       "      <td>...</td>\n",
       "      <td>...</td>\n",
       "      <td>...</td>\n",
       "      <td>...</td>\n",
       "    </tr>\n",
       "    <tr>\n",
       "      <th>2022-02-16</th>\n",
       "      <td>304.683319</td>\n",
       "      <td>308.809998</td>\n",
       "      <td>300.403320</td>\n",
       "      <td>307.796661</td>\n",
       "      <td>307.796661</td>\n",
       "      <td>51294300</td>\n",
       "    </tr>\n",
       "    <tr>\n",
       "      <th>2022-02-17</th>\n",
       "      <td>304.420013</td>\n",
       "      <td>306.166656</td>\n",
       "      <td>291.366669</td>\n",
       "      <td>292.116669</td>\n",
       "      <td>292.116669</td>\n",
       "      <td>55178400</td>\n",
       "    </tr>\n",
       "    <tr>\n",
       "      <th>2022-02-18</th>\n",
       "      <td>295.333344</td>\n",
       "      <td>295.623322</td>\n",
       "      <td>279.203339</td>\n",
       "      <td>285.660004</td>\n",
       "      <td>285.660004</td>\n",
       "      <td>68501700</td>\n",
       "    </tr>\n",
       "    <tr>\n",
       "      <th>2022-02-22</th>\n",
       "      <td>278.043335</td>\n",
       "      <td>285.576660</td>\n",
       "      <td>267.033325</td>\n",
       "      <td>273.843323</td>\n",
       "      <td>273.843323</td>\n",
       "      <td>83288100</td>\n",
       "    </tr>\n",
       "    <tr>\n",
       "      <th>2022-02-23</th>\n",
       "      <td>276.809998</td>\n",
       "      <td>278.433319</td>\n",
       "      <td>253.520004</td>\n",
       "      <td>254.679993</td>\n",
       "      <td>254.679993</td>\n",
       "      <td>95256900</td>\n",
       "    </tr>\n",
       "  </tbody>\n",
       "</table>\n",
       "<p>1263 rows × 6 columns</p>\n",
       "</div>"
      ],
      "text/plain": [
       "                  Open        High         Low       Close   Adj Close  \\\n",
       "Date                                                                     \n",
       "2017-02-17   17.719999   18.192667   17.610001   18.148666   18.148666   \n",
       "2017-02-21   18.363333   18.760000   18.267332   18.492666   18.492666   \n",
       "2017-02-22   18.687332   18.896667   18.173332   18.233999   18.233999   \n",
       "2017-02-23   17.600000   17.643999   17.037333   17.066000   17.066000   \n",
       "2017-02-24   16.844000   17.216667   16.680000   17.133333   17.133333   \n",
       "...                ...         ...         ...         ...         ...   \n",
       "2022-02-16  304.683319  308.809998  300.403320  307.796661  307.796661   \n",
       "2022-02-17  304.420013  306.166656  291.366669  292.116669  292.116669   \n",
       "2022-02-18  295.333344  295.623322  279.203339  285.660004  285.660004   \n",
       "2022-02-22  278.043335  285.576660  267.033325  273.843323  273.843323   \n",
       "2022-02-23  276.809998  278.433319  253.520004  254.679993  254.679993   \n",
       "\n",
       "               Volume  \n",
       "Date                   \n",
       "2017-02-17   93856500  \n",
       "2017-02-21   85150500  \n",
       "2017-02-22  131325000  \n",
       "2017-02-23  223728000  \n",
       "2017-02-24  122574000  \n",
       "...               ...  \n",
       "2022-02-16   51294300  \n",
       "2022-02-17   55178400  \n",
       "2022-02-18   68501700  \n",
       "2022-02-22   83288100  \n",
       "2022-02-23   95256900  \n",
       "\n",
       "[1263 rows x 6 columns]"
      ]
     },
     "execution_count": 5,
     "metadata": {},
     "output_type": "execute_result"
    }
   ],
   "source": [
    "import yfinance as yf\n",
    "\n",
    "start_date = datetime(2017, 2, 17)\n",
    "end_date = datetime(2022, 2, 24)\n",
    "\n",
    "df = yf.download('TSLA', start=start_date, end=end_date)\n",
    "df"
   ]
  },
  {
   "cell_type": "code",
   "execution_count": 6,
   "id": "080c99f9",
   "metadata": {},
   "outputs": [
    {
     "data": {
      "text/plain": [
       "<Axes: xlabel='Date'>"
      ]
     },
     "execution_count": 6,
     "metadata": {},
     "output_type": "execute_result"
    },
    {
     "data": {
      "image/png": "[encoded data removed]",
      "text/plain": [
       "<Figure size 640x480 with 1 Axes>"
      ]
     },
     "metadata": {},
     "output_type": "display_data"
    }
   ],
   "source": [
    "df.plot()"
   ]
  },
  {
   "cell_type": "code",
   "execution_count": 7,
   "id": "e0df9aa4",
   "metadata": {},
   "outputs": [
    {
     "data": {
      "text/plain": [
       "<Axes: xlabel='Date'>"
      ]
     },
     "execution_count": 7,
     "metadata": {},
     "output_type": "execute_result"
    },
    {
     "data": {
      "image/png": "[encoded data removed]",
      "text/plain": [
       "<Figure size 1200x400 with 1 Axes>"
      ]
     },
     "metadata": {},
     "output_type": "display_data"
    }
   ],
   "source": [
    "df['High'].plot(figsize=(12,4))"
   ]
  },
  {
   "cell_type": "code",
   "execution_count": 8,
   "id": "1e3a208f",
   "metadata": {},
   "outputs": [
    {
     "data": {
      "text/plain": [
       "<Axes: xlabel='Date'>"
      ]
     },
     "execution_count": 8,
     "metadata": {},
     "output_type": "execute_result"
    },
    {
     "data": {
      "image/png": "[encoded data removed]",
      "text/plain": [
       "<Figure size 1200x400 with 1 Axes>"
      ]
     },
     "metadata": {},
     "output_type": "display_data"
    }
   ],
   "source": [
    "#xlim and ylim\n",
    "df['High'].plot(xlim=['2020-01-01','2021-09-01'],figsize=(12,4))"
   ]
  },
  {
   "cell_type": "code",
   "execution_count": 9,
   "id": "eda4afc9",
   "metadata": {},
   "outputs": [
    {
     "data": {
      "text/plain": [
       "<Axes: xlabel='Date'>"
      ]
     },
     "execution_count": 9,
     "metadata": {},
     "output_type": "execute_result"
    },
    {
     "data": {
      "image/png": "[encoded data removed]",
      "text/plain": [
       "<Figure size 1200x400 with 1 Axes>"
      ]
     },
     "metadata": {},
     "output_type": "display_data"
    }
   ],
   "source": [
    "df['High'].plot(xlim=['2020-01-01','2021-09-01'],ylim=[0,300],figsize=(12,4),ls='--',c='green')"
   ]
  },
  {
   "cell_type": "code",
   "execution_count": 10,
   "id": "17371e27",
   "metadata": {},
   "outputs": [
    {
     "data": {
      "text/plain": [
       "DatetimeIndex(['2017-02-17', '2017-02-21', '2017-02-22', '2017-02-23',\n",
       "               '2017-02-24', '2017-02-27', '2017-02-28', '2017-03-01',\n",
       "               '2017-03-02', '2017-03-03',\n",
       "               ...\n",
       "               '2022-02-09', '2022-02-10', '2022-02-11', '2022-02-14',\n",
       "               '2022-02-15', '2022-02-16', '2022-02-17', '2022-02-18',\n",
       "               '2022-02-22', '2022-02-23'],\n",
       "              dtype='datetime64[ns]', name='Date', length=1263, freq=None)"
      ]
     },
     "execution_count": 10,
     "metadata": {},
     "output_type": "execute_result"
    }
   ],
   "source": [
    "df.index #returns list of dates"
   ]
  },
  {
   "cell_type": "code",
   "execution_count": 11,
   "id": "6cab680e",
   "metadata": {},
   "outputs": [
    {
     "data": {
      "text/html": [
       "<div>\n",
       "<style scoped>\n",
       "    .dataframe tbody tr th:only-of-type {\n",
       "        vertical-align: middle;\n",
       "    }\n",
       "\n",
       "    .dataframe tbody tr th {\n",
       "        vertical-align: top;\n",
       "    }\n",
       "\n",
       "    .dataframe thead th {\n",
       "        text-align: right;\n",
       "    }\n",
       "</style>\n",
       "<table border=\"1\" class=\"dataframe\">\n",
       "  <thead>\n",
       "    <tr style=\"text-align: right;\">\n",
       "      <th></th>\n",
       "      <th>Open</th>\n",
       "      <th>High</th>\n",
       "      <th>Low</th>\n",
       "      <th>Close</th>\n",
       "      <th>Adj Close</th>\n",
       "      <th>Volume</th>\n",
       "    </tr>\n",
       "    <tr>\n",
       "      <th>Date</th>\n",
       "      <th></th>\n",
       "      <th></th>\n",
       "      <th></th>\n",
       "      <th></th>\n",
       "      <th></th>\n",
       "      <th></th>\n",
       "    </tr>\n",
       "  </thead>\n",
       "  <tbody>\n",
       "    <tr>\n",
       "      <th>2017-02-17</th>\n",
       "      <td>17.719999</td>\n",
       "      <td>18.192667</td>\n",
       "      <td>17.610001</td>\n",
       "      <td>18.148666</td>\n",
       "      <td>18.148666</td>\n",
       "      <td>93856500</td>\n",
       "    </tr>\n",
       "    <tr>\n",
       "      <th>2017-02-21</th>\n",
       "      <td>18.363333</td>\n",
       "      <td>18.760000</td>\n",
       "      <td>18.267332</td>\n",
       "      <td>18.492666</td>\n",
       "      <td>18.492666</td>\n",
       "      <td>85150500</td>\n",
       "    </tr>\n",
       "    <tr>\n",
       "      <th>2017-02-22</th>\n",
       "      <td>18.687332</td>\n",
       "      <td>18.896667</td>\n",
       "      <td>18.173332</td>\n",
       "      <td>18.233999</td>\n",
       "      <td>18.233999</td>\n",
       "      <td>131325000</td>\n",
       "    </tr>\n",
       "    <tr>\n",
       "      <th>2017-02-23</th>\n",
       "      <td>17.600000</td>\n",
       "      <td>17.643999</td>\n",
       "      <td>17.037333</td>\n",
       "      <td>17.066000</td>\n",
       "      <td>17.066000</td>\n",
       "      <td>223728000</td>\n",
       "    </tr>\n",
       "    <tr>\n",
       "      <th>2017-02-24</th>\n",
       "      <td>16.844000</td>\n",
       "      <td>17.216667</td>\n",
       "      <td>16.680000</td>\n",
       "      <td>17.133333</td>\n",
       "      <td>17.133333</td>\n",
       "      <td>122574000</td>\n",
       "    </tr>\n",
       "  </tbody>\n",
       "</table>\n",
       "</div>"
      ],
      "text/plain": [
       "                 Open       High        Low      Close  Adj Close     Volume\n",
       "Date                                                                        \n",
       "2017-02-17  17.719999  18.192667  17.610001  18.148666  18.148666   93856500\n",
       "2017-02-21  18.363333  18.760000  18.267332  18.492666  18.492666   85150500\n",
       "2017-02-22  18.687332  18.896667  18.173332  18.233999  18.233999  131325000\n",
       "2017-02-23  17.600000  17.643999  17.037333  17.066000  17.066000  223728000\n",
       "2017-02-24  16.844000  17.216667  16.680000  17.133333  17.133333  122574000"
      ]
     },
     "execution_count": 11,
     "metadata": {},
     "output_type": "execute_result"
    }
   ],
   "source": [
    "df.iloc[:5,:6]"
   ]
  },
  {
   "cell_type": "code",
   "execution_count": 12,
   "id": "cc50300c",
   "metadata": {},
   "outputs": [
    {
     "data": {
      "text/plain": [
       "DatetimeIndex(['2020-01-02', '2020-01-03', '2020-01-06', '2020-01-07',\n",
       "               '2020-01-08', '2020-01-09', '2020-01-10', '2020-01-13',\n",
       "               '2020-01-14', '2020-01-15',\n",
       "               ...\n",
       "               '2021-08-19', '2021-08-20', '2021-08-23', '2021-08-24',\n",
       "               '2021-08-25', '2021-08-26', '2021-08-27', '2021-08-30',\n",
       "               '2021-08-31', '2021-09-01'],\n",
       "              dtype='datetime64[ns]', name='Date', length=421, freq=None)"
      ]
     },
     "execution_count": 12,
     "metadata": {},
     "output_type": "execute_result"
    }
   ],
   "source": [
    "index = df.loc['2020-01-01':'2021-09-01'].index\n",
    "index"
   ]
  },
  {
   "cell_type": "code",
   "execution_count": 13,
   "id": "690cfc5f",
   "metadata": {},
   "outputs": [
    {
     "data": {
      "text/plain": [
       "Date\n",
       "2020-01-02     28.299999\n",
       "2020-01-03     29.366667\n",
       "2020-01-06     29.364668\n",
       "2020-01-07     30.760000\n",
       "2020-01-08     31.580000\n",
       "                 ...    \n",
       "2021-08-26    236.103333\n",
       "2021-08-27    235.000000\n",
       "2021-08-30    238.240005\n",
       "2021-08-31    244.333328\n",
       "2021-09-01    244.693329\n",
       "Name: Open, Length: 421, dtype: float64"
      ]
     },
     "execution_count": 13,
     "metadata": {},
     "output_type": "execute_result"
    }
   ],
   "source": [
    "share_open = df.loc['2020-01-01':'2021-09-01']['Open']\n",
    "share_open"
   ]
  },
  {
   "cell_type": "code",
   "execution_count": 14,
   "id": "4ba89d4d",
   "metadata": {},
   "outputs": [],
   "source": [
    "import matplotlib.pyplot as plt\n",
    "%matplotlib inline"
   ]
  },
  {
   "cell_type": "code",
   "execution_count": 15,
   "id": "e9a40007",
   "metadata": {},
   "outputs": [
    {
     "data": {
      "text/plain": [
       "[<matplotlib.lines.Line2D at 0x117349590d0>]"
      ]
     },
     "execution_count": 15,
     "metadata": {},
     "output_type": "execute_result"
    },
    {
     "data": {
      "image/png": "[encoded data removed]",
      "text/plain": [
       "<Figure size 640x480 with 1 Axes>"
      ]
     },
     "metadata": {},
     "output_type": "display_data"
    }
   ],
   "source": [
    "figure,axis=plt.subplots()\n",
    "plt.tight_layout() #to stop overlapping of labels\n",
    "#preventing overlappimg\n",
    "figure.autofmt_xdate() # \" \"\n",
    "axis.plot(index,share_open)"
   ]
  },
  {
   "cell_type": "markdown",
   "id": "65912d3d",
   "metadata": {},
   "source": [
    "## Date time Index"
   ]
  },
  {
   "cell_type": "code",
   "execution_count": 16,
   "id": "a287d5d4",
   "metadata": {},
   "outputs": [
    {
     "name": "stdout",
     "output_type": "stream",
     "text": [
      "<class 'pandas.core.frame.DataFrame'>\n",
      "DatetimeIndex: 1263 entries, 2017-02-17 to 2022-02-23\n",
      "Data columns (total 6 columns):\n",
      " #   Column     Non-Null Count  Dtype  \n",
      "---  ------     --------------  -----  \n",
      " 0   Open       1263 non-null   float64\n",
      " 1   High       1263 non-null   float64\n",
      " 2   Low        1263 non-null   float64\n",
      " 3   Close      1263 non-null   float64\n",
      " 4   Adj Close  1263 non-null   float64\n",
      " 5   Volume     1263 non-null   int64  \n",
      "dtypes: float64(5), int64(1)\n",
      "memory usage: 101.4 KB\n"
     ]
    }
   ],
   "source": [
    "df.info()"
   ]
  },
  {
   "cell_type": "code",
   "execution_count": 17,
   "id": "90af63c4",
   "metadata": {},
   "outputs": [
    {
     "data": {
      "text/html": [
       "<div>\n",
       "<style scoped>\n",
       "    .dataframe tbody tr th:only-of-type {\n",
       "        vertical-align: middle;\n",
       "    }\n",
       "\n",
       "    .dataframe tbody tr th {\n",
       "        vertical-align: top;\n",
       "    }\n",
       "\n",
       "    .dataframe thead th {\n",
       "        text-align: right;\n",
       "    }\n",
       "</style>\n",
       "<table border=\"1\" class=\"dataframe\">\n",
       "  <thead>\n",
       "    <tr style=\"text-align: right;\">\n",
       "      <th></th>\n",
       "      <th>Date</th>\n",
       "      <th>Open</th>\n",
       "      <th>High</th>\n",
       "      <th>Low</th>\n",
       "      <th>Close</th>\n",
       "      <th>Adj Close</th>\n",
       "      <th>Volume</th>\n",
       "    </tr>\n",
       "  </thead>\n",
       "  <tbody>\n",
       "    <tr>\n",
       "      <th>0</th>\n",
       "      <td>2017-02-17</td>\n",
       "      <td>17.719999</td>\n",
       "      <td>18.192667</td>\n",
       "      <td>17.610001</td>\n",
       "      <td>18.148666</td>\n",
       "      <td>18.148666</td>\n",
       "      <td>93856500</td>\n",
       "    </tr>\n",
       "    <tr>\n",
       "      <th>1</th>\n",
       "      <td>2017-02-21</td>\n",
       "      <td>18.363333</td>\n",
       "      <td>18.760000</td>\n",
       "      <td>18.267332</td>\n",
       "      <td>18.492666</td>\n",
       "      <td>18.492666</td>\n",
       "      <td>85150500</td>\n",
       "    </tr>\n",
       "    <tr>\n",
       "      <th>2</th>\n",
       "      <td>2017-02-22</td>\n",
       "      <td>18.687332</td>\n",
       "      <td>18.896667</td>\n",
       "      <td>18.173332</td>\n",
       "      <td>18.233999</td>\n",
       "      <td>18.233999</td>\n",
       "      <td>131325000</td>\n",
       "    </tr>\n",
       "    <tr>\n",
       "      <th>3</th>\n",
       "      <td>2017-02-23</td>\n",
       "      <td>17.600000</td>\n",
       "      <td>17.643999</td>\n",
       "      <td>17.037333</td>\n",
       "      <td>17.066000</td>\n",
       "      <td>17.066000</td>\n",
       "      <td>223728000</td>\n",
       "    </tr>\n",
       "    <tr>\n",
       "      <th>4</th>\n",
       "      <td>2017-02-24</td>\n",
       "      <td>16.844000</td>\n",
       "      <td>17.216667</td>\n",
       "      <td>16.680000</td>\n",
       "      <td>17.133333</td>\n",
       "      <td>17.133333</td>\n",
       "      <td>122574000</td>\n",
       "    </tr>\n",
       "    <tr>\n",
       "      <th>...</th>\n",
       "      <td>...</td>\n",
       "      <td>...</td>\n",
       "      <td>...</td>\n",
       "      <td>...</td>\n",
       "      <td>...</td>\n",
       "      <td>...</td>\n",
       "      <td>...</td>\n",
       "    </tr>\n",
       "    <tr>\n",
       "      <th>1258</th>\n",
       "      <td>2022-02-16</td>\n",
       "      <td>304.683319</td>\n",
       "      <td>308.809998</td>\n",
       "      <td>300.403320</td>\n",
       "      <td>307.796661</td>\n",
       "      <td>307.796661</td>\n",
       "      <td>51294300</td>\n",
       "    </tr>\n",
       "    <tr>\n",
       "      <th>1259</th>\n",
       "      <td>2022-02-17</td>\n",
       "      <td>304.420013</td>\n",
       "      <td>306.166656</td>\n",
       "      <td>291.366669</td>\n",
       "      <td>292.116669</td>\n",
       "      <td>292.116669</td>\n",
       "      <td>55178400</td>\n",
       "    </tr>\n",
       "    <tr>\n",
       "      <th>1260</th>\n",
       "      <td>2022-02-18</td>\n",
       "      <td>295.333344</td>\n",
       "      <td>295.623322</td>\n",
       "      <td>279.203339</td>\n",
       "      <td>285.660004</td>\n",
       "      <td>285.660004</td>\n",
       "      <td>68501700</td>\n",
       "    </tr>\n",
       "    <tr>\n",
       "      <th>1261</th>\n",
       "      <td>2022-02-22</td>\n",
       "      <td>278.043335</td>\n",
       "      <td>285.576660</td>\n",
       "      <td>267.033325</td>\n",
       "      <td>273.843323</td>\n",
       "      <td>273.843323</td>\n",
       "      <td>83288100</td>\n",
       "    </tr>\n",
       "    <tr>\n",
       "      <th>1262</th>\n",
       "      <td>2022-02-23</td>\n",
       "      <td>276.809998</td>\n",
       "      <td>278.433319</td>\n",
       "      <td>253.520004</td>\n",
       "      <td>254.679993</td>\n",
       "      <td>254.679993</td>\n",
       "      <td>95256900</td>\n",
       "    </tr>\n",
       "  </tbody>\n",
       "</table>\n",
       "<p>1263 rows × 7 columns</p>\n",
       "</div>"
      ],
      "text/plain": [
       "           Date        Open        High         Low       Close   Adj Close  \\\n",
       "0    2017-02-17   17.719999   18.192667   17.610001   18.148666   18.148666   \n",
       "1    2017-02-21   18.363333   18.760000   18.267332   18.492666   18.492666   \n",
       "2    2017-02-22   18.687332   18.896667   18.173332   18.233999   18.233999   \n",
       "3    2017-02-23   17.600000   17.643999   17.037333   17.066000   17.066000   \n",
       "4    2017-02-24   16.844000   17.216667   16.680000   17.133333   17.133333   \n",
       "...         ...         ...         ...         ...         ...         ...   \n",
       "1258 2022-02-16  304.683319  308.809998  300.403320  307.796661  307.796661   \n",
       "1259 2022-02-17  304.420013  306.166656  291.366669  292.116669  292.116669   \n",
       "1260 2022-02-18  295.333344  295.623322  279.203339  285.660004  285.660004   \n",
       "1261 2022-02-22  278.043335  285.576660  267.033325  273.843323  273.843323   \n",
       "1262 2022-02-23  276.809998  278.433319  253.520004  254.679993  254.679993   \n",
       "\n",
       "         Volume  \n",
       "0      93856500  \n",
       "1      85150500  \n",
       "2     131325000  \n",
       "3     223728000  \n",
       "4     122574000  \n",
       "...         ...  \n",
       "1258   51294300  \n",
       "1259   55178400  \n",
       "1260   68501700  \n",
       "1261   83288100  \n",
       "1262   95256900  \n",
       "\n",
       "[1263 rows x 7 columns]"
      ]
     },
     "execution_count": 17,
     "metadata": {},
     "output_type": "execute_result"
    }
   ],
   "source": [
    "df = df.reset_index()\n",
    "df"
   ]
  },
  {
   "cell_type": "markdown",
   "id": "7d20bd9e",
   "metadata": {},
   "source": [
    "seperated data and time cols indivdually"
   ]
  },
  {
   "cell_type": "code",
   "execution_count": 18,
   "id": "af8b7ada",
   "metadata": {},
   "outputs": [
    {
     "name": "stdout",
     "output_type": "stream",
     "text": [
      "<class 'pandas.core.frame.DataFrame'>\n",
      "RangeIndex: 1263 entries, 0 to 1262\n",
      "Data columns (total 7 columns):\n",
      " #   Column     Non-Null Count  Dtype         \n",
      "---  ------     --------------  -----         \n",
      " 0   Date       1263 non-null   datetime64[ns]\n",
      " 1   Open       1263 non-null   float64       \n",
      " 2   High       1263 non-null   float64       \n",
      " 3   Low        1263 non-null   float64       \n",
      " 4   Close      1263 non-null   float64       \n",
      " 5   Adj Close  1263 non-null   float64       \n",
      " 6   Volume     1263 non-null   int64         \n",
      "dtypes: datetime64[ns](1), float64(5), int64(1)\n",
      "memory usage: 69.2 KB\n"
     ]
    }
   ],
   "source": [
    "df.info()"
   ]
  },
  {
   "cell_type": "code",
   "execution_count": 19,
   "id": "48139e40",
   "metadata": {},
   "outputs": [
    {
     "data": {
      "text/plain": [
       "0      2017-02-17\n",
       "1      2017-02-21\n",
       "2      2017-02-22\n",
       "3      2017-02-23\n",
       "4      2017-02-24\n",
       "          ...    \n",
       "1258   2022-02-16\n",
       "1259   2022-02-17\n",
       "1260   2022-02-18\n",
       "1261   2022-02-22\n",
       "1262   2022-02-23\n",
       "Name: Date, Length: 1263, dtype: datetime64[ns]"
      ]
     },
     "execution_count": 19,
     "metadata": {},
     "output_type": "execute_result"
    }
   ],
   "source": [
    "pd.to_datetime(df['Date']) #to change the data type of datetime col from object/string to datetime"
   ]
  },
  {
   "cell_type": "code",
   "execution_count": 22,
   "id": "09e45568",
   "metadata": {},
   "outputs": [
    {
     "data": {
      "text/html": [
       "<div>\n",
       "<style scoped>\n",
       "    .dataframe tbody tr th:only-of-type {\n",
       "        vertical-align: middle;\n",
       "    }\n",
       "\n",
       "    .dataframe tbody tr th {\n",
       "        vertical-align: top;\n",
       "    }\n",
       "\n",
       "    .dataframe thead th {\n",
       "        text-align: right;\n",
       "    }\n",
       "</style>\n",
       "<table border=\"1\" class=\"dataframe\">\n",
       "  <thead>\n",
       "    <tr style=\"text-align: right;\">\n",
       "      <th></th>\n",
       "      <th>Open</th>\n",
       "      <th>High</th>\n",
       "      <th>Low</th>\n",
       "      <th>Close</th>\n",
       "      <th>Adj Close</th>\n",
       "      <th>Volume</th>\n",
       "    </tr>\n",
       "    <tr>\n",
       "      <th>Date</th>\n",
       "      <th></th>\n",
       "      <th></th>\n",
       "      <th></th>\n",
       "      <th></th>\n",
       "      <th></th>\n",
       "      <th></th>\n",
       "    </tr>\n",
       "  </thead>\n",
       "  <tbody>\n",
       "    <tr>\n",
       "      <th>2017-02-17</th>\n",
       "      <td>17.719999</td>\n",
       "      <td>18.192667</td>\n",
       "      <td>17.610001</td>\n",
       "      <td>18.148666</td>\n",
       "      <td>18.148666</td>\n",
       "      <td>93856500</td>\n",
       "    </tr>\n",
       "    <tr>\n",
       "      <th>2017-02-21</th>\n",
       "      <td>18.363333</td>\n",
       "      <td>18.760000</td>\n",
       "      <td>18.267332</td>\n",
       "      <td>18.492666</td>\n",
       "      <td>18.492666</td>\n",
       "      <td>85150500</td>\n",
       "    </tr>\n",
       "    <tr>\n",
       "      <th>2017-02-22</th>\n",
       "      <td>18.687332</td>\n",
       "      <td>18.896667</td>\n",
       "      <td>18.173332</td>\n",
       "      <td>18.233999</td>\n",
       "      <td>18.233999</td>\n",
       "      <td>131325000</td>\n",
       "    </tr>\n",
       "    <tr>\n",
       "      <th>2017-02-23</th>\n",
       "      <td>17.600000</td>\n",
       "      <td>17.643999</td>\n",
       "      <td>17.037333</td>\n",
       "      <td>17.066000</td>\n",
       "      <td>17.066000</td>\n",
       "      <td>223728000</td>\n",
       "    </tr>\n",
       "    <tr>\n",
       "      <th>2017-02-24</th>\n",
       "      <td>16.844000</td>\n",
       "      <td>17.216667</td>\n",
       "      <td>16.680000</td>\n",
       "      <td>17.133333</td>\n",
       "      <td>17.133333</td>\n",
       "      <td>122574000</td>\n",
       "    </tr>\n",
       "    <tr>\n",
       "      <th>...</th>\n",
       "      <td>...</td>\n",
       "      <td>...</td>\n",
       "      <td>...</td>\n",
       "      <td>...</td>\n",
       "      <td>...</td>\n",
       "      <td>...</td>\n",
       "    </tr>\n",
       "    <tr>\n",
       "      <th>2022-02-16</th>\n",
       "      <td>304.683319</td>\n",
       "      <td>308.809998</td>\n",
       "      <td>300.403320</td>\n",
       "      <td>307.796661</td>\n",
       "      <td>307.796661</td>\n",
       "      <td>51294300</td>\n",
       "    </tr>\n",
       "    <tr>\n",
       "      <th>2022-02-17</th>\n",
       "      <td>304.420013</td>\n",
       "      <td>306.166656</td>\n",
       "      <td>291.366669</td>\n",
       "      <td>292.116669</td>\n",
       "      <td>292.116669</td>\n",
       "      <td>55178400</td>\n",
       "    </tr>\n",
       "    <tr>\n",
       "      <th>2022-02-18</th>\n",
       "      <td>295.333344</td>\n",
       "      <td>295.623322</td>\n",
       "      <td>279.203339</td>\n",
       "      <td>285.660004</td>\n",
       "      <td>285.660004</td>\n",
       "      <td>68501700</td>\n",
       "    </tr>\n",
       "    <tr>\n",
       "      <th>2022-02-22</th>\n",
       "      <td>278.043335</td>\n",
       "      <td>285.576660</td>\n",
       "      <td>267.033325</td>\n",
       "      <td>273.843323</td>\n",
       "      <td>273.843323</td>\n",
       "      <td>83288100</td>\n",
       "    </tr>\n",
       "    <tr>\n",
       "      <th>2022-02-23</th>\n",
       "      <td>276.809998</td>\n",
       "      <td>278.433319</td>\n",
       "      <td>253.520004</td>\n",
       "      <td>254.679993</td>\n",
       "      <td>254.679993</td>\n",
       "      <td>95256900</td>\n",
       "    </tr>\n",
       "  </tbody>\n",
       "</table>\n",
       "<p>1263 rows × 6 columns</p>\n",
       "</div>"
      ],
      "text/plain": [
       "                  Open        High         Low       Close   Adj Close  \\\n",
       "Date                                                                     \n",
       "2017-02-17   17.719999   18.192667   17.610001   18.148666   18.148666   \n",
       "2017-02-21   18.363333   18.760000   18.267332   18.492666   18.492666   \n",
       "2017-02-22   18.687332   18.896667   18.173332   18.233999   18.233999   \n",
       "2017-02-23   17.600000   17.643999   17.037333   17.066000   17.066000   \n",
       "2017-02-24   16.844000   17.216667   16.680000   17.133333   17.133333   \n",
       "...                ...         ...         ...         ...         ...   \n",
       "2022-02-16  304.683319  308.809998  300.403320  307.796661  307.796661   \n",
       "2022-02-17  304.420013  306.166656  291.366669  292.116669  292.116669   \n",
       "2022-02-18  295.333344  295.623322  279.203339  285.660004  285.660004   \n",
       "2022-02-22  278.043335  285.576660  267.033325  273.843323  273.843323   \n",
       "2022-02-23  276.809998  278.433319  253.520004  254.679993  254.679993   \n",
       "\n",
       "               Volume  \n",
       "Date                   \n",
       "2017-02-17   93856500  \n",
       "2017-02-21   85150500  \n",
       "2017-02-22  131325000  \n",
       "2017-02-23  223728000  \n",
       "2017-02-24  122574000  \n",
       "...               ...  \n",
       "2022-02-16   51294300  \n",
       "2022-02-17   55178400  \n",
       "2022-02-18   68501700  \n",
       "2022-02-22   83288100  \n",
       "2022-02-23   95256900  \n",
       "\n",
       "[1263 rows x 6 columns]"
      ]
     },
     "execution_count": 22,
     "metadata": {},
     "output_type": "execute_result"
    }
   ],
   "source": [
    "df=df.set_index('Date',drop=True)\n",
    "df"
   ]
  },
  {
   "cell_type": "code",
   "execution_count": 23,
   "id": "72d3f3b7",
   "metadata": {},
   "outputs": [
    {
     "data": {
      "text/html": [
       "<div>\n",
       "<style scoped>\n",
       "    .dataframe tbody tr th:only-of-type {\n",
       "        vertical-align: middle;\n",
       "    }\n",
       "\n",
       "    .dataframe tbody tr th {\n",
       "        vertical-align: top;\n",
       "    }\n",
       "\n",
       "    .dataframe thead th {\n",
       "        text-align: right;\n",
       "    }\n",
       "</style>\n",
       "<table border=\"1\" class=\"dataframe\">\n",
       "  <thead>\n",
       "    <tr style=\"text-align: right;\">\n",
       "      <th></th>\n",
       "      <th>Open</th>\n",
       "      <th>High</th>\n",
       "      <th>Low</th>\n",
       "      <th>Close</th>\n",
       "      <th>Adj Close</th>\n",
       "      <th>Volume</th>\n",
       "    </tr>\n",
       "    <tr>\n",
       "      <th>Date</th>\n",
       "      <th></th>\n",
       "      <th></th>\n",
       "      <th></th>\n",
       "      <th></th>\n",
       "      <th></th>\n",
       "      <th></th>\n",
       "    </tr>\n",
       "  </thead>\n",
       "  <tbody>\n",
       "    <tr>\n",
       "      <th>2017-02-17</th>\n",
       "      <td>17.719999</td>\n",
       "      <td>18.192667</td>\n",
       "      <td>17.610001</td>\n",
       "      <td>18.148666</td>\n",
       "      <td>18.148666</td>\n",
       "      <td>93856500</td>\n",
       "    </tr>\n",
       "    <tr>\n",
       "      <th>2017-02-21</th>\n",
       "      <td>18.363333</td>\n",
       "      <td>18.760000</td>\n",
       "      <td>18.267332</td>\n",
       "      <td>18.492666</td>\n",
       "      <td>18.492666</td>\n",
       "      <td>85150500</td>\n",
       "    </tr>\n",
       "    <tr>\n",
       "      <th>2017-02-22</th>\n",
       "      <td>18.687332</td>\n",
       "      <td>18.896667</td>\n",
       "      <td>18.173332</td>\n",
       "      <td>18.233999</td>\n",
       "      <td>18.233999</td>\n",
       "      <td>131325000</td>\n",
       "    </tr>\n",
       "    <tr>\n",
       "      <th>2017-02-23</th>\n",
       "      <td>17.600000</td>\n",
       "      <td>17.643999</td>\n",
       "      <td>17.037333</td>\n",
       "      <td>17.066000</td>\n",
       "      <td>17.066000</td>\n",
       "      <td>223728000</td>\n",
       "    </tr>\n",
       "    <tr>\n",
       "      <th>2017-02-24</th>\n",
       "      <td>16.844000</td>\n",
       "      <td>17.216667</td>\n",
       "      <td>16.680000</td>\n",
       "      <td>17.133333</td>\n",
       "      <td>17.133333</td>\n",
       "      <td>122574000</td>\n",
       "    </tr>\n",
       "  </tbody>\n",
       "</table>\n",
       "</div>"
      ],
      "text/plain": [
       "                 Open       High        Low      Close  Adj Close     Volume\n",
       "Date                                                                        \n",
       "2017-02-17  17.719999  18.192667  17.610001  18.148666  18.148666   93856500\n",
       "2017-02-21  18.363333  18.760000  18.267332  18.492666  18.492666   85150500\n",
       "2017-02-22  18.687332  18.896667  18.173332  18.233999  18.233999  131325000\n",
       "2017-02-23  17.600000  17.643999  17.037333  17.066000  17.066000  223728000\n",
       "2017-02-24  16.844000  17.216667  16.680000  17.133333  17.133333  122574000"
      ]
     },
     "execution_count": 23,
     "metadata": {},
     "output_type": "execute_result"
    }
   ],
   "source": [
    "df.head()"
   ]
  },
  {
   "cell_type": "markdown",
   "id": "18145204",
   "metadata": {},
   "source": [
    "## Data time"
   ]
  },
  {
   "cell_type": "code",
   "execution_count": 24,
   "id": "334947b3",
   "metadata": {},
   "outputs": [
    {
     "data": {
      "text/plain": [
       "datetime.datetime(2021, 11, 1, 0, 0)"
      ]
     },
     "execution_count": 24,
     "metadata": {},
     "output_type": "execute_result"
    }
   ],
   "source": [
    "datetime(2021,11,1) #shows the object of that given date "
   ]
  },
  {
   "cell_type": "code",
   "execution_count": 25,
   "id": "1a9fd4d7",
   "metadata": {},
   "outputs": [
    {
     "data": {
      "text/plain": [
       "datetime.datetime(2024, 8, 30, 18, 36, 17, 7625)"
      ]
     },
     "execution_count": 25,
     "metadata": {},
     "output_type": "execute_result"
    }
   ],
   "source": [
    "datetime.now() #shows today date and time with seconds and miliseconds"
   ]
  },
  {
   "cell_type": "code",
   "execution_count": 26,
   "id": "10d55986",
   "metadata": {},
   "outputs": [],
   "source": [
    "def add_num(num1,num2):\n",
    "    return num1+num2"
   ]
  },
  {
   "cell_type": "code",
   "execution_count": 28,
   "id": "abe33c9d",
   "metadata": {},
   "outputs": [
    {
     "name": "stdout",
     "output_type": "stream",
     "text": [
      "0:00:00\n"
     ]
    }
   ],
   "source": [
    "start_time=datetime.now()\n",
    "num1=20\n",
    "num2=30\n",
    "add_num(num1,num2)\n",
    "end_time=datetime.now()\n",
    "print(end_time-start_time)"
   ]
  },
  {
   "cell_type": "code",
   "execution_count": 34,
   "id": "0b892f07",
   "metadata": {},
   "outputs": [],
   "source": [
    "date=datetime(2021,11,21)"
   ]
  },
  {
   "cell_type": "code",
   "execution_count": 35,
   "id": "184488ba",
   "metadata": {},
   "outputs": [
    {
     "data": {
      "text/plain": [
       "datetime.datetime(2021, 11, 21, 0, 0)"
      ]
     },
     "execution_count": 35,
     "metadata": {},
     "output_type": "execute_result"
    }
   ],
   "source": [
    "date"
   ]
  },
  {
   "cell_type": "code",
   "execution_count": 36,
   "id": "87804bf2",
   "metadata": {},
   "outputs": [
    {
     "data": {
      "text/plain": [
       "datetime.date(2021, 11, 21)"
      ]
     },
     "execution_count": 36,
     "metadata": {},
     "output_type": "execute_result"
    }
   ],
   "source": [
    "date.date()"
   ]
  },
  {
   "cell_type": "code",
   "execution_count": 37,
   "id": "a15001c1",
   "metadata": {},
   "outputs": [
    {
     "data": {
      "text/plain": [
       "datetime.time(0, 0)"
      ]
     },
     "execution_count": 37,
     "metadata": {},
     "output_type": "execute_result"
    }
   ],
   "source": [
    "date.time()"
   ]
  },
  {
   "cell_type": "code",
   "execution_count": 38,
   "id": "bff6faa4",
   "metadata": {},
   "outputs": [
    {
     "data": {
      "text/plain": [
       "21"
      ]
     },
     "execution_count": 38,
     "metadata": {},
     "output_type": "execute_result"
    }
   ],
   "source": [
    "date.day"
   ]
  },
  {
   "cell_type": "code",
   "execution_count": 40,
   "id": "ca14a0e5",
   "metadata": {},
   "outputs": [
    {
     "data": {
      "text/plain": [
       "6"
      ]
     },
     "execution_count": 40,
     "metadata": {},
     "output_type": "execute_result"
    }
   ],
   "source": [
    "date.weekday()"
   ]
  },
  {
   "cell_type": "code",
   "execution_count": 41,
   "id": "26179d40",
   "metadata": {},
   "outputs": [
    {
     "data": {
      "text/plain": [
       "2021"
      ]
     },
     "execution_count": 41,
     "metadata": {},
     "output_type": "execute_result"
    }
   ],
   "source": [
    "date.year"
   ]
  },
  {
   "cell_type": "code",
   "execution_count": 42,
   "id": "91cc64b1",
   "metadata": {},
   "outputs": [
    {
     "data": {
      "text/plain": [
       "11"
      ]
     },
     "execution_count": 42,
     "metadata": {},
     "output_type": "execute_result"
    }
   ],
   "source": [
    "date.month"
   ]
  },
  {
   "cell_type": "markdown",
   "id": "0a6d6f7f",
   "metadata": {},
   "source": [
    "## Time Resampling"
   ]
  },
  {
   "cell_type": "code",
   "execution_count": 43,
   "id": "c9b74c53",
   "metadata": {},
   "outputs": [
    {
     "data": {
      "text/html": [
       "<div>\n",
       "<style scoped>\n",
       "    .dataframe tbody tr th:only-of-type {\n",
       "        vertical-align: middle;\n",
       "    }\n",
       "\n",
       "    .dataframe tbody tr th {\n",
       "        vertical-align: top;\n",
       "    }\n",
       "\n",
       "    .dataframe thead th {\n",
       "        text-align: right;\n",
       "    }\n",
       "</style>\n",
       "<table border=\"1\" class=\"dataframe\">\n",
       "  <thead>\n",
       "    <tr style=\"text-align: right;\">\n",
       "      <th></th>\n",
       "      <th>Open</th>\n",
       "      <th>High</th>\n",
       "      <th>Low</th>\n",
       "      <th>Close</th>\n",
       "      <th>Adj Close</th>\n",
       "      <th>Volume</th>\n",
       "    </tr>\n",
       "    <tr>\n",
       "      <th>Date</th>\n",
       "      <th></th>\n",
       "      <th></th>\n",
       "      <th></th>\n",
       "      <th></th>\n",
       "      <th></th>\n",
       "      <th></th>\n",
       "    </tr>\n",
       "  </thead>\n",
       "  <tbody>\n",
       "    <tr>\n",
       "      <th>2017-02-17</th>\n",
       "      <td>17.719999</td>\n",
       "      <td>18.192667</td>\n",
       "      <td>17.610001</td>\n",
       "      <td>18.148666</td>\n",
       "      <td>18.148666</td>\n",
       "      <td>93856500</td>\n",
       "    </tr>\n",
       "    <tr>\n",
       "      <th>2017-02-21</th>\n",
       "      <td>18.363333</td>\n",
       "      <td>18.760000</td>\n",
       "      <td>18.267332</td>\n",
       "      <td>18.492666</td>\n",
       "      <td>18.492666</td>\n",
       "      <td>85150500</td>\n",
       "    </tr>\n",
       "    <tr>\n",
       "      <th>2017-02-22</th>\n",
       "      <td>18.687332</td>\n",
       "      <td>18.896667</td>\n",
       "      <td>18.173332</td>\n",
       "      <td>18.233999</td>\n",
       "      <td>18.233999</td>\n",
       "      <td>131325000</td>\n",
       "    </tr>\n",
       "    <tr>\n",
       "      <th>2017-02-23</th>\n",
       "      <td>17.600000</td>\n",
       "      <td>17.643999</td>\n",
       "      <td>17.037333</td>\n",
       "      <td>17.066000</td>\n",
       "      <td>17.066000</td>\n",
       "      <td>223728000</td>\n",
       "    </tr>\n",
       "    <tr>\n",
       "      <th>2017-02-24</th>\n",
       "      <td>16.844000</td>\n",
       "      <td>17.216667</td>\n",
       "      <td>16.680000</td>\n",
       "      <td>17.133333</td>\n",
       "      <td>17.133333</td>\n",
       "      <td>122574000</td>\n",
       "    </tr>\n",
       "  </tbody>\n",
       "</table>\n",
       "</div>"
      ],
      "text/plain": [
       "                 Open       High        Low      Close  Adj Close     Volume\n",
       "Date                                                                        \n",
       "2017-02-17  17.719999  18.192667  17.610001  18.148666  18.148666   93856500\n",
       "2017-02-21  18.363333  18.760000  18.267332  18.492666  18.492666   85150500\n",
       "2017-02-22  18.687332  18.896667  18.173332  18.233999  18.233999  131325000\n",
       "2017-02-23  17.600000  17.643999  17.037333  17.066000  17.066000  223728000\n",
       "2017-02-24  16.844000  17.216667  16.680000  17.133333  17.133333  122574000"
      ]
     },
     "execution_count": 43,
     "metadata": {},
     "output_type": "execute_result"
    }
   ],
   "source": [
    "df.head()"
   ]
  },
  {
   "cell_type": "code",
   "execution_count": 44,
   "id": "81894faa",
   "metadata": {},
   "outputs": [
    {
     "data": {
      "text/plain": [
       "<pandas.core.resample.DatetimeIndexResampler object at 0x00000117392EF250>"
      ]
     },
     "execution_count": 44,
     "metadata": {},
     "output_type": "execute_result"
    }
   ],
   "source": [
    "df.resample(rule='A')"
   ]
  },
  {
   "cell_type": "code",
   "execution_count": 45,
   "id": "74f2bf10",
   "metadata": {},
   "outputs": [
    {
     "data": {
      "text/html": [
       "<div>\n",
       "<style scoped>\n",
       "    .dataframe tbody tr th:only-of-type {\n",
       "        vertical-align: middle;\n",
       "    }\n",
       "\n",
       "    .dataframe tbody tr th {\n",
       "        vertical-align: top;\n",
       "    }\n",
       "\n",
       "    .dataframe thead th {\n",
       "        text-align: right;\n",
       "    }\n",
       "</style>\n",
       "<table border=\"1\" class=\"dataframe\">\n",
       "  <thead>\n",
       "    <tr style=\"text-align: right;\">\n",
       "      <th></th>\n",
       "      <th>Open</th>\n",
       "      <th>High</th>\n",
       "      <th>Low</th>\n",
       "      <th>Close</th>\n",
       "      <th>Adj Close</th>\n",
       "      <th>Volume</th>\n",
       "    </tr>\n",
       "    <tr>\n",
       "      <th>Date</th>\n",
       "      <th></th>\n",
       "      <th></th>\n",
       "      <th></th>\n",
       "      <th></th>\n",
       "      <th></th>\n",
       "      <th></th>\n",
       "    </tr>\n",
       "  </thead>\n",
       "  <tbody>\n",
       "    <tr>\n",
       "      <th>2017-12-31</th>\n",
       "      <td>16.279333</td>\n",
       "      <td>16.433332</td>\n",
       "      <td>16.134001</td>\n",
       "      <td>16.246000</td>\n",
       "      <td>16.246000</td>\n",
       "      <td>43791000</td>\n",
       "    </tr>\n",
       "    <tr>\n",
       "      <th>2018-12-31</th>\n",
       "      <td>16.851999</td>\n",
       "      <td>17.355333</td>\n",
       "      <td>16.306000</td>\n",
       "      <td>16.704000</td>\n",
       "      <td>16.704000</td>\n",
       "      <td>46210500</td>\n",
       "    </tr>\n",
       "    <tr>\n",
       "      <th>2019-12-31</th>\n",
       "      <td>12.073333</td>\n",
       "      <td>12.445333</td>\n",
       "      <td>11.799333</td>\n",
       "      <td>11.931333</td>\n",
       "      <td>11.931333</td>\n",
       "      <td>36984000</td>\n",
       "    </tr>\n",
       "    <tr>\n",
       "      <th>2020-12-31</th>\n",
       "      <td>24.980000</td>\n",
       "      <td>26.990667</td>\n",
       "      <td>23.367332</td>\n",
       "      <td>24.081333</td>\n",
       "      <td>24.081333</td>\n",
       "      <td>52073100</td>\n",
       "    </tr>\n",
       "    <tr>\n",
       "      <th>2021-12-31</th>\n",
       "      <td>184.183334</td>\n",
       "      <td>188.736664</td>\n",
       "      <td>179.830002</td>\n",
       "      <td>187.666672</td>\n",
       "      <td>187.666672</td>\n",
       "      <td>29401800</td>\n",
       "    </tr>\n",
       "    <tr>\n",
       "      <th>2022-12-31</th>\n",
       "      <td>276.809998</td>\n",
       "      <td>278.433319</td>\n",
       "      <td>253.520004</td>\n",
       "      <td>254.679993</td>\n",
       "      <td>254.679993</td>\n",
       "      <td>50729100</td>\n",
       "    </tr>\n",
       "  </tbody>\n",
       "</table>\n",
       "</div>"
      ],
      "text/plain": [
       "                  Open        High         Low       Close   Adj Close  \\\n",
       "Date                                                                     \n",
       "2017-12-31   16.279333   16.433332   16.134001   16.246000   16.246000   \n",
       "2018-12-31   16.851999   17.355333   16.306000   16.704000   16.704000   \n",
       "2019-12-31   12.073333   12.445333   11.799333   11.931333   11.931333   \n",
       "2020-12-31   24.980000   26.990667   23.367332   24.081333   24.081333   \n",
       "2021-12-31  184.183334  188.736664  179.830002  187.666672  187.666672   \n",
       "2022-12-31  276.809998  278.433319  253.520004  254.679993  254.679993   \n",
       "\n",
       "              Volume  \n",
       "Date                  \n",
       "2017-12-31  43791000  \n",
       "2018-12-31  46210500  \n",
       "2019-12-31  36984000  \n",
       "2020-12-31  52073100  \n",
       "2021-12-31  29401800  \n",
       "2022-12-31  50729100  "
      ]
     },
     "execution_count": 45,
     "metadata": {},
     "output_type": "execute_result"
    }
   ],
   "source": [
    "df.resample(rule='A').min()"
   ]
  },
  {
   "cell_type": "code",
   "execution_count": 46,
   "id": "9968c3d4",
   "metadata": {},
   "outputs": [
    {
     "data": {
      "text/html": [
       "<div>\n",
       "<style scoped>\n",
       "    .dataframe tbody tr th:only-of-type {\n",
       "        vertical-align: middle;\n",
       "    }\n",
       "\n",
       "    .dataframe tbody tr th {\n",
       "        vertical-align: top;\n",
       "    }\n",
       "\n",
       "    .dataframe thead th {\n",
       "        text-align: right;\n",
       "    }\n",
       "</style>\n",
       "<table border=\"1\" class=\"dataframe\">\n",
       "  <thead>\n",
       "    <tr style=\"text-align: right;\">\n",
       "      <th></th>\n",
       "      <th>Open</th>\n",
       "      <th>High</th>\n",
       "      <th>Low</th>\n",
       "      <th>Close</th>\n",
       "      <th>Adj Close</th>\n",
       "      <th>Volume</th>\n",
       "    </tr>\n",
       "    <tr>\n",
       "      <th>Date</th>\n",
       "      <th></th>\n",
       "      <th></th>\n",
       "      <th></th>\n",
       "      <th></th>\n",
       "      <th></th>\n",
       "      <th></th>\n",
       "    </tr>\n",
       "  </thead>\n",
       "  <tbody>\n",
       "    <tr>\n",
       "      <th>2017-12-31</th>\n",
       "      <td>25.779333</td>\n",
       "      <td>25.974001</td>\n",
       "      <td>25.290001</td>\n",
       "      <td>25.666668</td>\n",
       "      <td>25.666668</td>\n",
       "      <td>296871000</td>\n",
       "    </tr>\n",
       "    <tr>\n",
       "      <th>2018-12-31</th>\n",
       "      <td>25.000000</td>\n",
       "      <td>25.830667</td>\n",
       "      <td>24.474667</td>\n",
       "      <td>25.304667</td>\n",
       "      <td>25.304667</td>\n",
       "      <td>504745500</td>\n",
       "    </tr>\n",
       "    <tr>\n",
       "      <th>2019-12-31</th>\n",
       "      <td>29.000000</td>\n",
       "      <td>29.020666</td>\n",
       "      <td>28.423332</td>\n",
       "      <td>28.729334</td>\n",
       "      <td>28.729334</td>\n",
       "      <td>450091500</td>\n",
       "    </tr>\n",
       "    <tr>\n",
       "      <th>2020-12-31</th>\n",
       "      <td>233.330002</td>\n",
       "      <td>239.573334</td>\n",
       "      <td>230.373337</td>\n",
       "      <td>235.223328</td>\n",
       "      <td>235.223328</td>\n",
       "      <td>914082000</td>\n",
       "    </tr>\n",
       "    <tr>\n",
       "      <th>2021-12-31</th>\n",
       "      <td>411.470001</td>\n",
       "      <td>414.496674</td>\n",
       "      <td>405.666656</td>\n",
       "      <td>409.970001</td>\n",
       "      <td>409.970001</td>\n",
       "      <td>268189500</td>\n",
       "    </tr>\n",
       "    <tr>\n",
       "      <th>2022-12-31</th>\n",
       "      <td>396.516663</td>\n",
       "      <td>402.666656</td>\n",
       "      <td>378.679993</td>\n",
       "      <td>399.926666</td>\n",
       "      <td>399.926666</td>\n",
       "      <td>151565700</td>\n",
       "    </tr>\n",
       "  </tbody>\n",
       "</table>\n",
       "</div>"
      ],
      "text/plain": [
       "                  Open        High         Low       Close   Adj Close  \\\n",
       "Date                                                                     \n",
       "2017-12-31   25.779333   25.974001   25.290001   25.666668   25.666668   \n",
       "2018-12-31   25.000000   25.830667   24.474667   25.304667   25.304667   \n",
       "2019-12-31   29.000000   29.020666   28.423332   28.729334   28.729334   \n",
       "2020-12-31  233.330002  239.573334  230.373337  235.223328  235.223328   \n",
       "2021-12-31  411.470001  414.496674  405.666656  409.970001  409.970001   \n",
       "2022-12-31  396.516663  402.666656  378.679993  399.926666  399.926666   \n",
       "\n",
       "               Volume  \n",
       "Date                   \n",
       "2017-12-31  296871000  \n",
       "2018-12-31  504745500  \n",
       "2019-12-31  450091500  \n",
       "2020-12-31  914082000  \n",
       "2021-12-31  268189500  \n",
       "2022-12-31  151565700  "
      ]
     },
     "execution_count": 46,
     "metadata": {},
     "output_type": "execute_result"
    }
   ],
   "source": [
    "#rule A means year end frequency\n",
    "df.resample(rule='A').max()"
   ]
  },
  {
   "cell_type": "code",
   "execution_count": 47,
   "id": "38b4397f",
   "metadata": {},
   "outputs": [
    {
     "data": {
      "text/plain": [
       "<Axes: xlabel='Date'>"
      ]
     },
     "execution_count": 47,
     "metadata": {},
     "output_type": "execute_result"
    },
    {
     "data": {
      "image/png": "[encoded data removed]",
      "text/plain": [
       "<Figure size 640x480 with 1 Axes>"
      ]
     },
     "metadata": {},
     "output_type": "display_data"
    }
   ],
   "source": [
    "df.resample(rule='A').max()['Open'].plot()"
   ]
  },
  {
   "cell_type": "code",
   "execution_count": 49,
   "id": "ad9717a3",
   "metadata": {},
   "outputs": [
    {
     "data": {
      "text/plain": [
       "<Axes: xlabel='Date'>"
      ]
     },
     "execution_count": 49,
     "metadata": {},
     "output_type": "execute_result"
    },
    {
     "data": {
      "image/png": "[encoded data removed]",
      "text/plain": [
       "<Figure size 640x480 with 1 Axes>"
      ]
     },
     "metadata": {},
     "output_type": "display_data"
    }
   ],
   "source": [
    "# quarterly start frequency\n",
    "# https://towardsdatascience.com/resample-function-of-pandas-79b17ec82a78  --> link for all the rules\n",
    "df.resample(rule='QS').max()['High'].plot()"
   ]
  },
  {
   "cell_type": "code",
   "execution_count": 50,
   "id": "baf4cd06",
   "metadata": {},
   "outputs": [
    {
     "data": {
      "text/plain": [
       "<Axes: xlabel='Date'>"
      ]
     },
     "execution_count": 50,
     "metadata": {},
     "output_type": "execute_result"
    },
    {
     "data": {
      "image/png": "[encoded data removed]",
      "text/plain": [
       "<Figure size 640x480 with 1 Axes>"
      ]
     },
     "metadata": {},
     "output_type": "display_data"
    }
   ],
   "source": [
    "# Business end Frequency\n",
    "df.resample(rule='BA').max()['High'].plot()"
   ]
  },
  {
   "cell_type": "code",
   "execution_count": 51,
   "id": "d05f1669",
   "metadata": {},
   "outputs": [
    {
     "data": {
      "text/plain": [
       "<Axes: xlabel='Date'>"
      ]
     },
     "execution_count": 51,
     "metadata": {},
     "output_type": "execute_result"
    },
    {
     "data": {
      "image/png": "[encoded data removed]",
      "text/plain": [
       "<Figure size 640x480 with 1 Axes>"
      ]
     },
     "metadata": {},
     "output_type": "display_data"
    }
   ],
   "source": [
    "# Business Quarter\n",
    "df.resample(rule='BQS').max()['High'].plot()"
   ]
  },
  {
   "cell_type": "code",
   "execution_count": 53,
   "id": "f22eced1",
   "metadata": {},
   "outputs": [
    {
     "data": {
      "text/plain": [
       "<Axes: xlabel='Date'>"
      ]
     },
     "execution_count": 53,
     "metadata": {},
     "output_type": "execute_result"
    },
    {
     "data": {
      "image/png": "[encoded data removed]",
      "text/plain": [
       "<Figure size 640x480 with 1 Axes>"
      ]
     },
     "metadata": {},
     "output_type": "display_data"
    }
   ],
   "source": [
    "# PLotting\n",
    "df['Open'].resample(rule='A').mean().plot(kind='bar')"
   ]
  },
  {
   "cell_type": "code",
   "execution_count": 55,
   "id": "d4499967",
   "metadata": {},
   "outputs": [
    {
     "data": {
      "text/plain": [
       "<Axes: xlabel='Date'>"
      ]
     },
     "execution_count": 55,
     "metadata": {},
     "output_type": "execute_result"
    },
    {
     "data": {
      "image/png": "[encoded data removed]",
      "text/plain": [
       "<Figure size 1200x400 with 1 Axes>"
      ]
     },
     "metadata": {},
     "output_type": "display_data"
    }
   ],
   "source": [
    "df['Open'].resample(rule='M').max().plot(kind='bar',figsize=(12,4))"
   ]
  },
  {
   "cell_type": "markdown",
   "id": "5b2ae7dc",
   "metadata": {},
   "source": [
    "## Rolling"
   ]
  },
  {
   "cell_type": "code",
   "execution_count": 56,
   "id": "362102ef",
   "metadata": {},
   "outputs": [
    {
     "data": {
      "text/plain": [
       "Rolling [window=10,center=False,axis=0,method=single]"
      ]
     },
     "execution_count": 56,
     "metadata": {},
     "output_type": "execute_result"
    }
   ],
   "source": [
    "df['High'].rolling(10)"
   ]
  },
  {
   "cell_type": "code",
   "execution_count": 57,
   "id": "7c33b205",
   "metadata": {},
   "outputs": [
    {
     "data": {
      "text/plain": [
       "Date\n",
       "2017-02-17           NaN\n",
       "2017-02-21           NaN\n",
       "2017-02-22           NaN\n",
       "2017-02-23           NaN\n",
       "2017-02-24           NaN\n",
       "                 ...    \n",
       "2022-02-16    310.063669\n",
       "2022-02-17    309.447000\n",
       "2022-02-18    307.792667\n",
       "2022-02-22    304.757999\n",
       "2022-02-23    301.724997\n",
       "Name: High, Length: 1263, dtype: float64"
      ]
     },
     "execution_count": 57,
     "metadata": {},
     "output_type": "execute_result"
    }
   ],
   "source": [
    "df['High'].rolling(10).mean()"
   ]
  },
  {
   "cell_type": "code",
   "execution_count": 58,
   "id": "93ebf613",
   "metadata": {},
   "outputs": [],
   "source": [
    "df['Open:30 days of rolling']=df['Open'].rolling(30).mean()"
   ]
  },
  {
   "cell_type": "code",
   "execution_count": 60,
   "id": "ba118149",
   "metadata": {},
   "outputs": [
    {
     "data": {
      "text/html": [
       "<div>\n",
       "<style scoped>\n",
       "    .dataframe tbody tr th:only-of-type {\n",
       "        vertical-align: middle;\n",
       "    }\n",
       "\n",
       "    .dataframe tbody tr th {\n",
       "        vertical-align: top;\n",
       "    }\n",
       "\n",
       "    .dataframe thead th {\n",
       "        text-align: right;\n",
       "    }\n",
       "</style>\n",
       "<table border=\"1\" class=\"dataframe\">\n",
       "  <thead>\n",
       "    <tr style=\"text-align: right;\">\n",
       "      <th></th>\n",
       "      <th>Open</th>\n",
       "      <th>High</th>\n",
       "      <th>Low</th>\n",
       "      <th>Close</th>\n",
       "      <th>Adj Close</th>\n",
       "      <th>Volume</th>\n",
       "      <th>Open:30 days of rolling</th>\n",
       "    </tr>\n",
       "    <tr>\n",
       "      <th>Date</th>\n",
       "      <th></th>\n",
       "      <th></th>\n",
       "      <th></th>\n",
       "      <th></th>\n",
       "      <th></th>\n",
       "      <th></th>\n",
       "      <th></th>\n",
       "    </tr>\n",
       "  </thead>\n",
       "  <tbody>\n",
       "    <tr>\n",
       "      <th>2017-02-17</th>\n",
       "      <td>17.719999</td>\n",
       "      <td>18.192667</td>\n",
       "      <td>17.610001</td>\n",
       "      <td>18.148666</td>\n",
       "      <td>18.148666</td>\n",
       "      <td>93856500</td>\n",
       "      <td>NaN</td>\n",
       "    </tr>\n",
       "    <tr>\n",
       "      <th>2017-02-21</th>\n",
       "      <td>18.363333</td>\n",
       "      <td>18.760000</td>\n",
       "      <td>18.267332</td>\n",
       "      <td>18.492666</td>\n",
       "      <td>18.492666</td>\n",
       "      <td>85150500</td>\n",
       "      <td>NaN</td>\n",
       "    </tr>\n",
       "    <tr>\n",
       "      <th>2017-02-22</th>\n",
       "      <td>18.687332</td>\n",
       "      <td>18.896667</td>\n",
       "      <td>18.173332</td>\n",
       "      <td>18.233999</td>\n",
       "      <td>18.233999</td>\n",
       "      <td>131325000</td>\n",
       "      <td>NaN</td>\n",
       "    </tr>\n",
       "    <tr>\n",
       "      <th>2017-02-23</th>\n",
       "      <td>17.600000</td>\n",
       "      <td>17.643999</td>\n",
       "      <td>17.037333</td>\n",
       "      <td>17.066000</td>\n",
       "      <td>17.066000</td>\n",
       "      <td>223728000</td>\n",
       "      <td>NaN</td>\n",
       "    </tr>\n",
       "    <tr>\n",
       "      <th>2017-02-24</th>\n",
       "      <td>16.844000</td>\n",
       "      <td>17.216667</td>\n",
       "      <td>16.680000</td>\n",
       "      <td>17.133333</td>\n",
       "      <td>17.133333</td>\n",
       "      <td>122574000</td>\n",
       "      <td>NaN</td>\n",
       "    </tr>\n",
       "    <tr>\n",
       "      <th>2017-02-27</th>\n",
       "      <td>16.544666</td>\n",
       "      <td>16.557333</td>\n",
       "      <td>16.134001</td>\n",
       "      <td>16.415333</td>\n",
       "      <td>16.415333</td>\n",
       "      <td>171912000</td>\n",
       "      <td>NaN</td>\n",
       "    </tr>\n",
       "    <tr>\n",
       "      <th>2017-02-28</th>\n",
       "      <td>16.279333</td>\n",
       "      <td>16.733334</td>\n",
       "      <td>16.260000</td>\n",
       "      <td>16.666000</td>\n",
       "      <td>16.666000</td>\n",
       "      <td>91171500</td>\n",
       "      <td>NaN</td>\n",
       "    </tr>\n",
       "    <tr>\n",
       "      <th>2017-03-01</th>\n",
       "      <td>16.945333</td>\n",
       "      <td>16.990000</td>\n",
       "      <td>16.607332</td>\n",
       "      <td>16.667999</td>\n",
       "      <td>16.667999</td>\n",
       "      <td>72142500</td>\n",
       "      <td>NaN</td>\n",
       "    </tr>\n",
       "    <tr>\n",
       "      <th>2017-03-02</th>\n",
       "      <td>16.647333</td>\n",
       "      <td>16.885332</td>\n",
       "      <td>16.551332</td>\n",
       "      <td>16.698668</td>\n",
       "      <td>16.698668</td>\n",
       "      <td>50277000</td>\n",
       "      <td>NaN</td>\n",
       "    </tr>\n",
       "    <tr>\n",
       "      <th>2017-03-03</th>\n",
       "      <td>16.716000</td>\n",
       "      <td>16.793333</td>\n",
       "      <td>16.600000</td>\n",
       "      <td>16.771334</td>\n",
       "      <td>16.771334</td>\n",
       "      <td>43791000</td>\n",
       "      <td>NaN</td>\n",
       "    </tr>\n",
       "    <tr>\n",
       "      <th>2017-03-06</th>\n",
       "      <td>16.527332</td>\n",
       "      <td>16.780001</td>\n",
       "      <td>16.500668</td>\n",
       "      <td>16.747334</td>\n",
       "      <td>16.747334</td>\n",
       "      <td>50332500</td>\n",
       "      <td>NaN</td>\n",
       "    </tr>\n",
       "    <tr>\n",
       "      <th>2017-03-07</th>\n",
       "      <td>16.794666</td>\n",
       "      <td>16.926001</td>\n",
       "      <td>16.554667</td>\n",
       "      <td>16.572666</td>\n",
       "      <td>16.572666</td>\n",
       "      <td>51892500</td>\n",
       "      <td>NaN</td>\n",
       "    </tr>\n",
       "    <tr>\n",
       "      <th>2017-03-08</th>\n",
       "      <td>16.466667</td>\n",
       "      <td>16.671333</td>\n",
       "      <td>16.354668</td>\n",
       "      <td>16.458000</td>\n",
       "      <td>16.458000</td>\n",
       "      <td>55878000</td>\n",
       "      <td>NaN</td>\n",
       "    </tr>\n",
       "    <tr>\n",
       "      <th>2017-03-09</th>\n",
       "      <td>16.508667</td>\n",
       "      <td>16.577333</td>\n",
       "      <td>16.200001</td>\n",
       "      <td>16.326668</td>\n",
       "      <td>16.326668</td>\n",
       "      <td>58189500</td>\n",
       "      <td>NaN</td>\n",
       "    </tr>\n",
       "    <tr>\n",
       "      <th>2017-03-10</th>\n",
       "      <td>16.414000</td>\n",
       "      <td>16.433332</td>\n",
       "      <td>16.200001</td>\n",
       "      <td>16.246000</td>\n",
       "      <td>16.246000</td>\n",
       "      <td>45994500</td>\n",
       "      <td>NaN</td>\n",
       "    </tr>\n",
       "    <tr>\n",
       "      <th>2017-03-13</th>\n",
       "      <td>16.321333</td>\n",
       "      <td>16.456667</td>\n",
       "      <td>16.185333</td>\n",
       "      <td>16.411333</td>\n",
       "      <td>16.411333</td>\n",
       "      <td>45339000</td>\n",
       "      <td>NaN</td>\n",
       "    </tr>\n",
       "    <tr>\n",
       "      <th>2017-03-14</th>\n",
       "      <td>16.407333</td>\n",
       "      <td>17.208000</td>\n",
       "      <td>16.401333</td>\n",
       "      <td>17.200001</td>\n",
       "      <td>17.200001</td>\n",
       "      <td>113976000</td>\n",
       "      <td>NaN</td>\n",
       "    </tr>\n",
       "    <tr>\n",
       "      <th>2017-03-15</th>\n",
       "      <td>17.133333</td>\n",
       "      <td>17.400000</td>\n",
       "      <td>16.951332</td>\n",
       "      <td>17.048668</td>\n",
       "      <td>17.048668</td>\n",
       "      <td>79962000</td>\n",
       "      <td>NaN</td>\n",
       "    </tr>\n",
       "    <tr>\n",
       "      <th>2017-03-16</th>\n",
       "      <td>17.493334</td>\n",
       "      <td>17.716667</td>\n",
       "      <td>17.270666</td>\n",
       "      <td>17.469999</td>\n",
       "      <td>17.469999</td>\n",
       "      <td>106983000</td>\n",
       "      <td>NaN</td>\n",
       "    </tr>\n",
       "    <tr>\n",
       "      <th>2017-03-17</th>\n",
       "      <td>17.600000</td>\n",
       "      <td>17.688667</td>\n",
       "      <td>17.413334</td>\n",
       "      <td>17.433332</td>\n",
       "      <td>17.433332</td>\n",
       "      <td>97462500</td>\n",
       "      <td>NaN</td>\n",
       "    </tr>\n",
       "    <tr>\n",
       "      <th>2017-03-20</th>\n",
       "      <td>17.373333</td>\n",
       "      <td>17.636667</td>\n",
       "      <td>17.254667</td>\n",
       "      <td>17.461332</td>\n",
       "      <td>17.461332</td>\n",
       "      <td>54214500</td>\n",
       "      <td>NaN</td>\n",
       "    </tr>\n",
       "    <tr>\n",
       "      <th>2017-03-21</th>\n",
       "      <td>17.521999</td>\n",
       "      <td>17.653334</td>\n",
       "      <td>16.682667</td>\n",
       "      <td>16.712000</td>\n",
       "      <td>16.712000</td>\n",
       "      <td>103629000</td>\n",
       "      <td>NaN</td>\n",
       "    </tr>\n",
       "    <tr>\n",
       "      <th>2017-03-22</th>\n",
       "      <td>16.770666</td>\n",
       "      <td>17.004667</td>\n",
       "      <td>16.700666</td>\n",
       "      <td>17.000668</td>\n",
       "      <td>17.000668</td>\n",
       "      <td>60889500</td>\n",
       "      <td>NaN</td>\n",
       "    </tr>\n",
       "    <tr>\n",
       "      <th>2017-03-23</th>\n",
       "      <td>17.025999</td>\n",
       "      <td>17.177999</td>\n",
       "      <td>16.886667</td>\n",
       "      <td>16.985332</td>\n",
       "      <td>16.985332</td>\n",
       "      <td>49803000</td>\n",
       "      <td>NaN</td>\n",
       "    </tr>\n",
       "    <tr>\n",
       "      <th>2017-03-24</th>\n",
       "      <td>17.046667</td>\n",
       "      <td>17.592667</td>\n",
       "      <td>17.000668</td>\n",
       "      <td>17.544001</td>\n",
       "      <td>17.544001</td>\n",
       "      <td>84709500</td>\n",
       "      <td>NaN</td>\n",
       "    </tr>\n",
       "    <tr>\n",
       "      <th>2017-03-27</th>\n",
       "      <td>17.373333</td>\n",
       "      <td>18.038000</td>\n",
       "      <td>17.316668</td>\n",
       "      <td>18.014668</td>\n",
       "      <td>18.014668</td>\n",
       "      <td>93462000</td>\n",
       "      <td>NaN</td>\n",
       "    </tr>\n",
       "    <tr>\n",
       "      <th>2017-03-28</th>\n",
       "      <td>18.468000</td>\n",
       "      <td>18.712000</td>\n",
       "      <td>18.333332</td>\n",
       "      <td>18.496668</td>\n",
       "      <td>18.496668</td>\n",
       "      <td>119814000</td>\n",
       "      <td>NaN</td>\n",
       "    </tr>\n",
       "    <tr>\n",
       "      <th>2017-03-29</th>\n",
       "      <td>18.556000</td>\n",
       "      <td>18.639999</td>\n",
       "      <td>18.369333</td>\n",
       "      <td>18.492001</td>\n",
       "      <td>18.492001</td>\n",
       "      <td>55143000</td>\n",
       "      <td>NaN</td>\n",
       "    </tr>\n",
       "    <tr>\n",
       "      <th>2017-03-30</th>\n",
       "      <td>18.535999</td>\n",
       "      <td>18.799999</td>\n",
       "      <td>18.480667</td>\n",
       "      <td>18.528000</td>\n",
       "      <td>18.528000</td>\n",
       "      <td>62226000</td>\n",
       "      <td>NaN</td>\n",
       "    </tr>\n",
       "    <tr>\n",
       "      <th>2017-03-31</th>\n",
       "      <td>18.582001</td>\n",
       "      <td>18.645332</td>\n",
       "      <td>18.421333</td>\n",
       "      <td>18.553333</td>\n",
       "      <td>18.553333</td>\n",
       "      <td>49419000</td>\n",
       "      <td>17.242266</td>\n",
       "    </tr>\n",
       "    <tr>\n",
       "      <th>2017-04-03</th>\n",
       "      <td>19.126667</td>\n",
       "      <td>19.933332</td>\n",
       "      <td>18.972000</td>\n",
       "      <td>19.901333</td>\n",
       "      <td>19.901333</td>\n",
       "      <td>208329000</td>\n",
       "      <td>17.289155</td>\n",
       "    </tr>\n",
       "  </tbody>\n",
       "</table>\n",
       "</div>"
      ],
      "text/plain": [
       "                 Open       High        Low      Close  Adj Close     Volume  \\\n",
       "Date                                                                           \n",
       "2017-02-17  17.719999  18.192667  17.610001  18.148666  18.148666   93856500   \n",
       "2017-02-21  18.363333  18.760000  18.267332  18.492666  18.492666   85150500   \n",
       "2017-02-22  18.687332  18.896667  18.173332  18.233999  18.233999  131325000   \n",
       "2017-02-23  17.600000  17.643999  17.037333  17.066000  17.066000  223728000   \n",
       "2017-02-24  16.844000  17.216667  16.680000  17.133333  17.133333  122574000   \n",
       "2017-02-27  16.544666  16.557333  16.134001  16.415333  16.415333  171912000   \n",
       "2017-02-28  16.279333  16.733334  16.260000  16.666000  16.666000   91171500   \n",
       "2017-03-01  16.945333  16.990000  16.607332  16.667999  16.667999   72142500   \n",
       "2017-03-02  16.647333  16.885332  16.551332  16.698668  16.698668   50277000   \n",
       "2017-03-03  16.716000  16.793333  16.600000  16.771334  16.771334   43791000   \n",
       "2017-03-06  16.527332  16.780001  16.500668  16.747334  16.747334   50332500   \n",
       "2017-03-07  16.794666  16.926001  16.554667  16.572666  16.572666   51892500   \n",
       "2017-03-08  16.466667  16.671333  16.354668  16.458000  16.458000   55878000   \n",
       "2017-03-09  16.508667  16.577333  16.200001  16.326668  16.326668   58189500   \n",
       "2017-03-10  16.414000  16.433332  16.200001  16.246000  16.246000   45994500   \n",
       "2017-03-13  16.321333  16.456667  16.185333  16.411333  16.411333   45339000   \n",
       "2017-03-14  16.407333  17.208000  16.401333  17.200001  17.200001  113976000   \n",
       "2017-03-15  17.133333  17.400000  16.951332  17.048668  17.048668   79962000   \n",
       "2017-03-16  17.493334  17.716667  17.270666  17.469999  17.469999  106983000   \n",
       "2017-03-17  17.600000  17.688667  17.413334  17.433332  17.433332   97462500   \n",
       "2017-03-20  17.373333  17.636667  17.254667  17.461332  17.461332   54214500   \n",
       "2017-03-21  17.521999  17.653334  16.682667  16.712000  16.712000  103629000   \n",
       "2017-03-22  16.770666  17.004667  16.700666  17.000668  17.000668   60889500   \n",
       "2017-03-23  17.025999  17.177999  16.886667  16.985332  16.985332   49803000   \n",
       "2017-03-24  17.046667  17.592667  17.000668  17.544001  17.544001   84709500   \n",
       "2017-03-27  17.373333  18.038000  17.316668  18.014668  18.014668   93462000   \n",
       "2017-03-28  18.468000  18.712000  18.333332  18.496668  18.496668  119814000   \n",
       "2017-03-29  18.556000  18.639999  18.369333  18.492001  18.492001   55143000   \n",
       "2017-03-30  18.535999  18.799999  18.480667  18.528000  18.528000   62226000   \n",
       "2017-03-31  18.582001  18.645332  18.421333  18.553333  18.553333   49419000   \n",
       "2017-04-03  19.126667  19.933332  18.972000  19.901333  19.901333  208329000   \n",
       "\n",
       "            Open:30 days of rolling  \n",
       "Date                                 \n",
       "2017-02-17                      NaN  \n",
       "2017-02-21                      NaN  \n",
       "2017-02-22                      NaN  \n",
       "2017-02-23                      NaN  \n",
       "2017-02-24                      NaN  \n",
       "2017-02-27                      NaN  \n",
       "2017-02-28                      NaN  \n",
       "2017-03-01                      NaN  \n",
       "2017-03-02                      NaN  \n",
       "2017-03-03                      NaN  \n",
       "2017-03-06                      NaN  \n",
       "2017-03-07                      NaN  \n",
       "2017-03-08                      NaN  \n",
       "2017-03-09                      NaN  \n",
       "2017-03-10                      NaN  \n",
       "2017-03-13                      NaN  \n",
       "2017-03-14                      NaN  \n",
       "2017-03-15                      NaN  \n",
       "2017-03-16                      NaN  \n",
       "2017-03-17                      NaN  \n",
       "2017-03-20                      NaN  \n",
       "2017-03-21                      NaN  \n",
       "2017-03-22                      NaN  \n",
       "2017-03-23                      NaN  \n",
       "2017-03-24                      NaN  \n",
       "2017-03-27                      NaN  \n",
       "2017-03-28                      NaN  \n",
       "2017-03-29                      NaN  \n",
       "2017-03-30                      NaN  \n",
       "2017-03-31                17.242266  \n",
       "2017-04-03                17.289155  "
      ]
     },
     "execution_count": 60,
     "metadata": {},
     "output_type": "execute_result"
    }
   ],
   "source": [
    "df.head(31)"
   ]
  },
  {
   "cell_type": "code",
   "execution_count": 61,
   "id": "bf6b1e5d",
   "metadata": {},
   "outputs": [
    {
     "data": {
      "text/plain": [
       "<Axes: xlabel='Date'>"
      ]
     },
     "execution_count": 61,
     "metadata": {},
     "output_type": "execute_result"
    },
    {
     "data": {
      "image/png": "[encoded data removed]",
      "text/plain": [
       "<Figure size 1200x400 with 1 Axes>"
      ]
     },
     "metadata": {},
     "output_type": "display_data"
    }
   ],
   "source": [
    "df[['Open','Open:30 days of rolling']].plot(figsize=(12,4))\n",
    "#helped in smoothening"
   ]
  },
  {
   "cell_type": "code",
   "execution_count": null,
   "id": "5361c2bd",
   "metadata": {},
   "outputs": [],
   "source": []
  }
 ],
 "metadata": {
  "kernelspec": {
   "display_name": "Python 3 (ipykernel)",
   "language": "python",
   "name": "python3"
  },
  "language_info": {
   "codemirror_mode": {
    "name": "ipython",
    "version": 3
   },
   "file_extension": ".py",
   "mimetype": "text/x-python",
   "name": "python",
   "nbconvert_exporter": "python",
   "pygments_lexer": "ipython3",
   "version": "3.11.3"
  }
 },
 "nbformat": 4,
 "nbformat_minor": 5
}
